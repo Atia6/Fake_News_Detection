{
  "nbformat": 4,
  "nbformat_minor": 0,
  "metadata": {
    "colab": {
      "provenance": [],
      "gpuType": "T4",
      "include_colab_link": true
    },
    "kernelspec": {
      "name": "python3",
      "display_name": "Python 3"
    },
    "language_info": {
      "name": "python"
    },
    "accelerator": "GPU",
    "gpuClass": "standard"
  },
  "cells": [
    {
      "cell_type": "markdown",
      "metadata": {
        "id": "view-in-github",
        "colab_type": "text"
      },
      "source": [
        "<a href=\"https://colab.research.google.com/github/Atia6/Fake_News_Detection/blob/main/Fake_News_Detection_Fine_tuned.ipynb\" target=\"_parent\"><img src=\"https://colab.research.google.com/assets/colab-badge.svg\" alt=\"Open In Colab\"/></a>"
      ]
    },
    {
      "cell_type": "code",
      "execution_count": null,
      "metadata": {
        "id": "FuXIFTFapAMI",
        "colab": {
          "base_uri": "https://localhost:8080/"
        },
        "outputId": "98ed7605-8b06-442b-cdd2-3838ca70a057"
      },
      "outputs": [
        {
          "output_type": "stream",
          "name": "stdout",
          "text": [
            "\u001b[2K   \u001b[90m━━━━━━━━━━━━━━━━━━━━━━━━━━━━━━━━━━━━━━━━\u001b[0m \u001b[32m122.4/122.4 MB\u001b[0m \u001b[31m6.7 MB/s\u001b[0m eta \u001b[36m0:00:00\u001b[0m\n",
            "\u001b[?25h  Installing build dependencies ... \u001b[?25l\u001b[?25hdone\n",
            "  Getting requirements to build wheel ... \u001b[?25l\u001b[?25hdone\n",
            "  Preparing metadata (pyproject.toml) ... \u001b[?25l\u001b[?25hdone\n",
            "  Building wheel for transformers (pyproject.toml) ... \u001b[?25l\u001b[?25hdone\n",
            "  Installing build dependencies ... \u001b[?25l\u001b[?25hdone\n",
            "  Getting requirements to build wheel ... \u001b[?25l\u001b[?25hdone\n",
            "  Preparing metadata (pyproject.toml) ... \u001b[?25l\u001b[?25hdone\n",
            "  Building wheel for peft (pyproject.toml) ... \u001b[?25l\u001b[?25hdone\n",
            "  Installing build dependencies ... \u001b[?25l\u001b[?25hdone\n",
            "  Getting requirements to build wheel ... \u001b[?25l\u001b[?25hdone\n",
            "  Preparing metadata (pyproject.toml) ... \u001b[?25l\u001b[?25hdone\n",
            "  Building wheel for accelerate (pyproject.toml) ... \u001b[?25l\u001b[?25hdone\n",
            "\u001b[2K   \u001b[90m━━━━━━━━━━━━━━━━━━━━━━━━━━━━━━━━━━━━━━━━\u001b[0m \u001b[32m480.6/480.6 kB\u001b[0m \u001b[31m15.2 MB/s\u001b[0m eta \u001b[36m0:00:00\u001b[0m\n",
            "\u001b[2K   \u001b[90m━━━━━━━━━━━━━━━━━━━━━━━━━━━━━━━━━━━━━━━━\u001b[0m \u001b[32m116.3/116.3 kB\u001b[0m \u001b[31m10.0 MB/s\u001b[0m eta \u001b[36m0:00:00\u001b[0m\n",
            "\u001b[2K   \u001b[90m━━━━━━━━━━━━━━━━━━━━━━━━━━━━━━━━━━━━━━━━\u001b[0m \u001b[32m179.3/179.3 kB\u001b[0m \u001b[31m15.8 MB/s\u001b[0m eta \u001b[36m0:00:00\u001b[0m\n",
            "\u001b[2K   \u001b[90m━━━━━━━━━━━━━━━━━━━━━━━━━━━━━━━━━━━━━━━━\u001b[0m \u001b[32m134.8/134.8 kB\u001b[0m \u001b[31m12.4 MB/s\u001b[0m eta \u001b[36m0:00:00\u001b[0m\n",
            "\u001b[2K   \u001b[90m━━━━━━━━━━━━━━━━━━━━━━━━━━━━━━━━━━━━━━━━\u001b[0m \u001b[32m194.1/194.1 kB\u001b[0m \u001b[31m16.8 MB/s\u001b[0m eta \u001b[36m0:00:00\u001b[0m\n",
            "\u001b[?25h\u001b[31mERROR: pip's dependency resolver does not currently take into account all the packages that are installed. This behaviour is the source of the following dependency conflicts.\n",
            "gcsfs 2024.10.0 requires fsspec==2024.10.0, but you have fsspec 2024.9.0 which is incompatible.\u001b[0m\u001b[31m\n",
            "\u001b[0mCollecting langchain-community\n",
            "  Downloading langchain_community-0.3.8-py3-none-any.whl.metadata (2.9 kB)\n",
            "Requirement already satisfied: langchain-core in /usr/local/lib/python3.10/dist-packages (0.3.19)\n",
            "Requirement already satisfied: PyYAML>=5.3 in /usr/local/lib/python3.10/dist-packages (from langchain-community) (6.0.2)\n",
            "Collecting SQLAlchemy<2.0.36,>=1.4 (from langchain-community)\n",
            "  Downloading SQLAlchemy-2.0.35-cp310-cp310-manylinux_2_17_x86_64.manylinux2014_x86_64.whl.metadata (9.6 kB)\n",
            "Requirement already satisfied: aiohttp<4.0.0,>=3.8.3 in /usr/local/lib/python3.10/dist-packages (from langchain-community) (3.11.2)\n",
            "Collecting dataclasses-json<0.7,>=0.5.7 (from langchain-community)\n",
            "  Downloading dataclasses_json-0.6.7-py3-none-any.whl.metadata (25 kB)\n",
            "Collecting httpx-sse<0.5.0,>=0.4.0 (from langchain-community)\n",
            "  Downloading httpx_sse-0.4.0-py3-none-any.whl.metadata (9.0 kB)\n",
            "Collecting langchain<0.4.0,>=0.3.8 (from langchain-community)\n",
            "  Downloading langchain-0.3.8-py3-none-any.whl.metadata (7.1 kB)\n",
            "Collecting langchain-core\n",
            "  Downloading langchain_core-0.3.21-py3-none-any.whl.metadata (6.3 kB)\n",
            "Requirement already satisfied: langsmith<0.2.0,>=0.1.125 in /usr/local/lib/python3.10/dist-packages (from langchain-community) (0.1.143)\n",
            "Requirement already satisfied: numpy<2,>=1.22.4 in /usr/local/lib/python3.10/dist-packages (from langchain-community) (1.26.4)\n",
            "Collecting pydantic-settings<3.0.0,>=2.4.0 (from langchain-community)\n",
            "  Downloading pydantic_settings-2.6.1-py3-none-any.whl.metadata (3.5 kB)\n",
            "Requirement already satisfied: requests<3,>=2 in /usr/local/lib/python3.10/dist-packages (from langchain-community) (2.32.3)\n",
            "Requirement already satisfied: tenacity!=8.4.0,<10,>=8.1.0 in /usr/local/lib/python3.10/dist-packages (from langchain-community) (9.0.0)\n",
            "Requirement already satisfied: jsonpatch<2.0,>=1.33 in /usr/local/lib/python3.10/dist-packages (from langchain-core) (1.33)\n",
            "Requirement already satisfied: packaging<25,>=23.2 in /usr/local/lib/python3.10/dist-packages (from langchain-core) (24.2)\n",
            "Requirement already satisfied: pydantic<3.0.0,>=2.5.2 in /usr/local/lib/python3.10/dist-packages (from langchain-core) (2.9.2)\n",
            "Requirement already satisfied: typing-extensions>=4.7 in /usr/local/lib/python3.10/dist-packages (from langchain-core) (4.12.2)\n",
            "Requirement already satisfied: aiohappyeyeballs>=2.3.0 in /usr/local/lib/python3.10/dist-packages (from aiohttp<4.0.0,>=3.8.3->langchain-community) (2.4.3)\n",
            "Requirement already satisfied: aiosignal>=1.1.2 in /usr/local/lib/python3.10/dist-packages (from aiohttp<4.0.0,>=3.8.3->langchain-community) (1.3.1)\n",
            "Requirement already satisfied: attrs>=17.3.0 in /usr/local/lib/python3.10/dist-packages (from aiohttp<4.0.0,>=3.8.3->langchain-community) (24.2.0)\n",
            "Requirement already satisfied: frozenlist>=1.1.1 in /usr/local/lib/python3.10/dist-packages (from aiohttp<4.0.0,>=3.8.3->langchain-community) (1.5.0)\n",
            "Requirement already satisfied: multidict<7.0,>=4.5 in /usr/local/lib/python3.10/dist-packages (from aiohttp<4.0.0,>=3.8.3->langchain-community) (6.1.0)\n",
            "Requirement already satisfied: propcache>=0.2.0 in /usr/local/lib/python3.10/dist-packages (from aiohttp<4.0.0,>=3.8.3->langchain-community) (0.2.0)\n",
            "Requirement already satisfied: yarl<2.0,>=1.17.0 in /usr/local/lib/python3.10/dist-packages (from aiohttp<4.0.0,>=3.8.3->langchain-community) (1.17.2)\n",
            "Requirement already satisfied: async-timeout<6.0,>=4.0 in /usr/local/lib/python3.10/dist-packages (from aiohttp<4.0.0,>=3.8.3->langchain-community) (4.0.3)\n",
            "Collecting marshmallow<4.0.0,>=3.18.0 (from dataclasses-json<0.7,>=0.5.7->langchain-community)\n",
            "  Downloading marshmallow-3.23.1-py3-none-any.whl.metadata (7.5 kB)\n",
            "Collecting typing-inspect<1,>=0.4.0 (from dataclasses-json<0.7,>=0.5.7->langchain-community)\n",
            "  Downloading typing_inspect-0.9.0-py3-none-any.whl.metadata (1.5 kB)\n",
            "Requirement already satisfied: jsonpointer>=1.9 in /usr/local/lib/python3.10/dist-packages (from jsonpatch<2.0,>=1.33->langchain-core) (3.0.0)\n",
            "Requirement already satisfied: langchain-text-splitters<0.4.0,>=0.3.0 in /usr/local/lib/python3.10/dist-packages (from langchain<0.4.0,>=0.3.8->langchain-community) (0.3.2)\n",
            "Requirement already satisfied: httpx<1,>=0.23.0 in /usr/local/lib/python3.10/dist-packages (from langsmith<0.2.0,>=0.1.125->langchain-community) (0.27.2)\n",
            "Requirement already satisfied: orjson<4.0.0,>=3.9.14 in /usr/local/lib/python3.10/dist-packages (from langsmith<0.2.0,>=0.1.125->langchain-community) (3.10.11)\n",
            "Requirement already satisfied: requests-toolbelt<2.0.0,>=1.0.0 in /usr/local/lib/python3.10/dist-packages (from langsmith<0.2.0,>=0.1.125->langchain-community) (1.0.0)\n",
            "Requirement already satisfied: annotated-types>=0.6.0 in /usr/local/lib/python3.10/dist-packages (from pydantic<3.0.0,>=2.5.2->langchain-core) (0.7.0)\n",
            "Requirement already satisfied: pydantic-core==2.23.4 in /usr/local/lib/python3.10/dist-packages (from pydantic<3.0.0,>=2.5.2->langchain-core) (2.23.4)\n",
            "Collecting python-dotenv>=0.21.0 (from pydantic-settings<3.0.0,>=2.4.0->langchain-community)\n",
            "  Downloading python_dotenv-1.0.1-py3-none-any.whl.metadata (23 kB)\n",
            "Requirement already satisfied: charset-normalizer<4,>=2 in /usr/local/lib/python3.10/dist-packages (from requests<3,>=2->langchain-community) (3.4.0)\n",
            "Requirement already satisfied: idna<4,>=2.5 in /usr/local/lib/python3.10/dist-packages (from requests<3,>=2->langchain-community) (3.10)\n",
            "Requirement already satisfied: urllib3<3,>=1.21.1 in /usr/local/lib/python3.10/dist-packages (from requests<3,>=2->langchain-community) (2.2.3)\n",
            "Requirement already satisfied: certifi>=2017.4.17 in /usr/local/lib/python3.10/dist-packages (from requests<3,>=2->langchain-community) (2024.8.30)\n",
            "Requirement already satisfied: greenlet!=0.4.17 in /usr/local/lib/python3.10/dist-packages (from SQLAlchemy<2.0.36,>=1.4->langchain-community) (3.1.1)\n",
            "Requirement already satisfied: anyio in /usr/local/lib/python3.10/dist-packages (from httpx<1,>=0.23.0->langsmith<0.2.0,>=0.1.125->langchain-community) (3.7.1)\n",
            "Requirement already satisfied: httpcore==1.* in /usr/local/lib/python3.10/dist-packages (from httpx<1,>=0.23.0->langsmith<0.2.0,>=0.1.125->langchain-community) (1.0.7)\n",
            "Requirement already satisfied: sniffio in /usr/local/lib/python3.10/dist-packages (from httpx<1,>=0.23.0->langsmith<0.2.0,>=0.1.125->langchain-community) (1.3.1)\n",
            "Requirement already satisfied: h11<0.15,>=0.13 in /usr/local/lib/python3.10/dist-packages (from httpcore==1.*->httpx<1,>=0.23.0->langsmith<0.2.0,>=0.1.125->langchain-community) (0.14.0)\n",
            "Collecting mypy-extensions>=0.3.0 (from typing-inspect<1,>=0.4.0->dataclasses-json<0.7,>=0.5.7->langchain-community)\n",
            "  Downloading mypy_extensions-1.0.0-py3-none-any.whl.metadata (1.1 kB)\n",
            "Requirement already satisfied: exceptiongroup in /usr/local/lib/python3.10/dist-packages (from anyio->httpx<1,>=0.23.0->langsmith<0.2.0,>=0.1.125->langchain-community) (1.2.2)\n",
            "Downloading langchain_community-0.3.8-py3-none-any.whl (2.4 MB)\n",
            "\u001b[2K   \u001b[90m━━━━━━━━━━━━━━━━━━━━━━━━━━━━━━━━━━━━━━━━\u001b[0m \u001b[32m2.4/2.4 MB\u001b[0m \u001b[31m39.0 MB/s\u001b[0m eta \u001b[36m0:00:00\u001b[0m\n",
            "\u001b[?25hDownloading langchain_core-0.3.21-py3-none-any.whl (409 kB)\n",
            "\u001b[2K   \u001b[90m━━━━━━━━━━━━━━━━━━━━━━━━━━━━━━━━━━━━━━━━\u001b[0m \u001b[32m409.5/409.5 kB\u001b[0m \u001b[31m26.3 MB/s\u001b[0m eta \u001b[36m0:00:00\u001b[0m\n",
            "\u001b[?25hDownloading dataclasses_json-0.6.7-py3-none-any.whl (28 kB)\n",
            "Downloading httpx_sse-0.4.0-py3-none-any.whl (7.8 kB)\n",
            "Downloading langchain-0.3.8-py3-none-any.whl (1.0 MB)\n",
            "\u001b[2K   \u001b[90m━━━━━━━━━━━━━━━━━━━━━━━━━━━━━━━━━━━━━━━━\u001b[0m \u001b[32m1.0/1.0 MB\u001b[0m \u001b[31m46.4 MB/s\u001b[0m eta \u001b[36m0:00:00\u001b[0m\n",
            "\u001b[?25hDownloading pydantic_settings-2.6.1-py3-none-any.whl (28 kB)\n",
            "Downloading SQLAlchemy-2.0.35-cp310-cp310-manylinux_2_17_x86_64.manylinux2014_x86_64.whl (3.1 MB)\n",
            "\u001b[2K   \u001b[90m━━━━━━━━━━━━━━━━━━━━━━━━━━━━━━━━━━━━━━━━\u001b[0m \u001b[32m3.1/3.1 MB\u001b[0m \u001b[31m67.8 MB/s\u001b[0m eta \u001b[36m0:00:00\u001b[0m\n",
            "\u001b[?25hDownloading marshmallow-3.23.1-py3-none-any.whl (49 kB)\n",
            "\u001b[2K   \u001b[90m━━━━━━━━━━━━━━━━━━━━━━━━━━━━━━━━━━━━━━━━\u001b[0m \u001b[32m49.5/49.5 kB\u001b[0m \u001b[31m3.8 MB/s\u001b[0m eta \u001b[36m0:00:00\u001b[0m\n",
            "\u001b[?25hDownloading python_dotenv-1.0.1-py3-none-any.whl (19 kB)\n",
            "Downloading typing_inspect-0.9.0-py3-none-any.whl (8.8 kB)\n",
            "Downloading mypy_extensions-1.0.0-py3-none-any.whl (4.7 kB)\n",
            "Installing collected packages: SQLAlchemy, python-dotenv, mypy-extensions, marshmallow, httpx-sse, typing-inspect, pydantic-settings, dataclasses-json, langchain-core, langchain, langchain-community\n",
            "  Attempting uninstall: SQLAlchemy\n",
            "    Found existing installation: SQLAlchemy 2.0.36\n",
            "    Uninstalling SQLAlchemy-2.0.36:\n",
            "      Successfully uninstalled SQLAlchemy-2.0.36\n",
            "  Attempting uninstall: langchain-core\n",
            "    Found existing installation: langchain-core 0.3.19\n",
            "    Uninstalling langchain-core-0.3.19:\n",
            "      Successfully uninstalled langchain-core-0.3.19\n",
            "  Attempting uninstall: langchain\n",
            "    Found existing installation: langchain 0.3.7\n",
            "    Uninstalling langchain-0.3.7:\n",
            "      Successfully uninstalled langchain-0.3.7\n",
            "Successfully installed SQLAlchemy-2.0.35 dataclasses-json-0.6.7 httpx-sse-0.4.0 langchain-0.3.8 langchain-community-0.3.8 langchain-core-0.3.21 marshmallow-3.23.1 mypy-extensions-1.0.0 pydantic-settings-2.6.1 python-dotenv-1.0.1 typing-inspect-0.9.0\n"
          ]
        }
      ],
      "source": [
        "!pip install -q -U bitsandbytes\n",
        "!pip install -q -U git+https://github.com/huggingface/transformers.git\n",
        "!pip install -q -U git+https://github.com/huggingface/peft.git\n",
        "!pip install -q -U git+https://github.com/huggingface/accelerate.git\n",
        "!pip install -q datasets\n",
        "\n",
        "\n",
        "!pip install -q  einops langchain\n",
        "!pip install langchain-community langchain-core"
      ]
    },
    {
      "cell_type": "code",
      "source": [
        "from langchain.embeddings import HuggingFaceEmbeddings\n",
        "from peft import LoraConfig, get_peft_model, TaskType\n",
        "from transformers import AutoTokenizer, AutoModelForSequenceClassification, Trainer, TrainingArguments\n",
        "from sklearn.model_selection import train_test_split\n",
        "from datasets import Dataset\n",
        "\n",
        "\n"
      ],
      "metadata": {
        "id": "AJj97IaCdnqd"
      },
      "execution_count": null,
      "outputs": []
    },
    {
      "cell_type": "code",
      "source": [
        "import pandas as pd\n",
        "import string\n",
        "from google.colab import drive\n",
        "drive.mount('/content/drive')\n"
      ],
      "metadata": {
        "id": "WxIfHjcsraVs"
      },
      "execution_count": null,
      "outputs": []
    },
    {
      "cell_type": "code",
      "source": [
        "# Load the CSV dataset\n",
        "csv_path = '/content/drive/MyDrive/data/Fake News Detection Fine-tuning/data.csv'\n",
        "\n",
        "# Load the CSV file into a DataFrame\n",
        "df = pd.read_csv(csv_path)"
      ],
      "metadata": {
        "id": "Kr953Lvkre7t"
      },
      "execution_count": null,
      "outputs": []
    },
    {
      "cell_type": "code",
      "source": [
        "df.columns"
      ],
      "metadata": {
        "colab": {
          "base_uri": "https://localhost:8080/"
        },
        "id": "ErQTMtEprhow",
        "outputId": "603d962b-555f-4578-ba4f-9fe5bdf2ec84"
      },
      "execution_count": null,
      "outputs": [
        {
          "output_type": "execute_result",
          "data": {
            "text/plain": [
              "Index(['URLs', 'Headline', 'Body', 'Label'], dtype='object')"
            ]
          },
          "metadata": {},
          "execution_count": 115
        }
      ]
    },
    {
      "cell_type": "code",
      "source": [
        "# Combine Headline and Body (if necessary)\n",
        "df['text'] = df['Headline'] + \" \" + df['Body']\n",
        "\n",
        "# Convert the 'text' column to strings, handling both lists and single strings\n",
        "df[\"text\"] = df[\"text\"].apply(lambda x: \" \".join(x) if isinstance(x, list) else str(x))\n"
      ],
      "metadata": {
        "id": "COYYr3oRrhZc"
      },
      "execution_count": null,
      "outputs": []
    },
    {
      "cell_type": "code",
      "source": [
        "\n",
        "import pandas as pd\n",
        "\n",
        "# Create a new DataFrame with 'text' and 'Label' as the columns\n",
        "df_combined = pd.DataFrame({\n",
        "    'text': df['text'],\n",
        "    'label': df['Label']\n",
        "})\n",
        "\n",
        "# Split into train and test sets\n",
        "train_df, test_df = train_test_split(df_combined, test_size=0.2, random_state=42)\n",
        "\n",
        "\n",
        "\n"
      ],
      "metadata": {
        "id": "BoAhXuk-dyRX"
      },
      "execution_count": null,
      "outputs": []
    },
    {
      "cell_type": "code",
      "source": [
        "train_df.head()"
      ],
      "metadata": {
        "colab": {
          "base_uri": "https://localhost:8080/",
          "height": 206
        },
        "id": "gpA6nRB9r0BO",
        "outputId": "fa9b9fe1-24bd-42cf-ced4-12b27574b8b7"
      },
      "execution_count": null,
      "outputs": [
        {
          "output_type": "execute_result",
          "data": {
            "text/plain": [
              "                                                   text  label\n",
              "2473  Rugby League World Cup: Kear names uncapped tr...      1\n",
              "1338  Execution Still Haunts Village, 50 Years After...      1\n",
              "1613  Police take shot at actor on movie set Chat wi...      1\n",
              "1610  Catalan leader under pressure to drop independ...      1\n",
              "2600  Dunderhead of the Week Dunderhead of the Week\\...      0"
            ],
            "text/html": [
              "\n",
              "  <div id=\"df-c667c0ed-fd3e-497d-a0ea-b6c3494fec53\" class=\"colab-df-container\">\n",
              "    <div>\n",
              "<style scoped>\n",
              "    .dataframe tbody tr th:only-of-type {\n",
              "        vertical-align: middle;\n",
              "    }\n",
              "\n",
              "    .dataframe tbody tr th {\n",
              "        vertical-align: top;\n",
              "    }\n",
              "\n",
              "    .dataframe thead th {\n",
              "        text-align: right;\n",
              "    }\n",
              "</style>\n",
              "<table border=\"1\" class=\"dataframe\">\n",
              "  <thead>\n",
              "    <tr style=\"text-align: right;\">\n",
              "      <th></th>\n",
              "      <th>text</th>\n",
              "      <th>label</th>\n",
              "    </tr>\n",
              "  </thead>\n",
              "  <tbody>\n",
              "    <tr>\n",
              "      <th>2473</th>\n",
              "      <td>Rugby League World Cup: Kear names uncapped tr...</td>\n",
              "      <td>1</td>\n",
              "    </tr>\n",
              "    <tr>\n",
              "      <th>1338</th>\n",
              "      <td>Execution Still Haunts Village, 50 Years After...</td>\n",
              "      <td>1</td>\n",
              "    </tr>\n",
              "    <tr>\n",
              "      <th>1613</th>\n",
              "      <td>Police take shot at actor on movie set Chat wi...</td>\n",
              "      <td>1</td>\n",
              "    </tr>\n",
              "    <tr>\n",
              "      <th>1610</th>\n",
              "      <td>Catalan leader under pressure to drop independ...</td>\n",
              "      <td>1</td>\n",
              "    </tr>\n",
              "    <tr>\n",
              "      <th>2600</th>\n",
              "      <td>Dunderhead of the Week Dunderhead of the Week\\...</td>\n",
              "      <td>0</td>\n",
              "    </tr>\n",
              "  </tbody>\n",
              "</table>\n",
              "</div>\n",
              "    <div class=\"colab-df-buttons\">\n",
              "\n",
              "  <div class=\"colab-df-container\">\n",
              "    <button class=\"colab-df-convert\" onclick=\"convertToInteractive('df-c667c0ed-fd3e-497d-a0ea-b6c3494fec53')\"\n",
              "            title=\"Convert this dataframe to an interactive table.\"\n",
              "            style=\"display:none;\">\n",
              "\n",
              "  <svg xmlns=\"http://www.w3.org/2000/svg\" height=\"24px\" viewBox=\"0 -960 960 960\">\n",
              "    <path d=\"M120-120v-720h720v720H120Zm60-500h600v-160H180v160Zm220 220h160v-160H400v160Zm0 220h160v-160H400v160ZM180-400h160v-160H180v160Zm440 0h160v-160H620v160ZM180-180h160v-160H180v160Zm440 0h160v-160H620v160Z\"/>\n",
              "  </svg>\n",
              "    </button>\n",
              "\n",
              "  <style>\n",
              "    .colab-df-container {\n",
              "      display:flex;\n",
              "      gap: 12px;\n",
              "    }\n",
              "\n",
              "    .colab-df-convert {\n",
              "      background-color: #E8F0FE;\n",
              "      border: none;\n",
              "      border-radius: 50%;\n",
              "      cursor: pointer;\n",
              "      display: none;\n",
              "      fill: #1967D2;\n",
              "      height: 32px;\n",
              "      padding: 0 0 0 0;\n",
              "      width: 32px;\n",
              "    }\n",
              "\n",
              "    .colab-df-convert:hover {\n",
              "      background-color: #E2EBFA;\n",
              "      box-shadow: 0px 1px 2px rgba(60, 64, 67, 0.3), 0px 1px 3px 1px rgba(60, 64, 67, 0.15);\n",
              "      fill: #174EA6;\n",
              "    }\n",
              "\n",
              "    .colab-df-buttons div {\n",
              "      margin-bottom: 4px;\n",
              "    }\n",
              "\n",
              "    [theme=dark] .colab-df-convert {\n",
              "      background-color: #3B4455;\n",
              "      fill: #D2E3FC;\n",
              "    }\n",
              "\n",
              "    [theme=dark] .colab-df-convert:hover {\n",
              "      background-color: #434B5C;\n",
              "      box-shadow: 0px 1px 3px 1px rgba(0, 0, 0, 0.15);\n",
              "      filter: drop-shadow(0px 1px 2px rgba(0, 0, 0, 0.3));\n",
              "      fill: #FFFFFF;\n",
              "    }\n",
              "  </style>\n",
              "\n",
              "    <script>\n",
              "      const buttonEl =\n",
              "        document.querySelector('#df-c667c0ed-fd3e-497d-a0ea-b6c3494fec53 button.colab-df-convert');\n",
              "      buttonEl.style.display =\n",
              "        google.colab.kernel.accessAllowed ? 'block' : 'none';\n",
              "\n",
              "      async function convertToInteractive(key) {\n",
              "        const element = document.querySelector('#df-c667c0ed-fd3e-497d-a0ea-b6c3494fec53');\n",
              "        const dataTable =\n",
              "          await google.colab.kernel.invokeFunction('convertToInteractive',\n",
              "                                                    [key], {});\n",
              "        if (!dataTable) return;\n",
              "\n",
              "        const docLinkHtml = 'Like what you see? Visit the ' +\n",
              "          '<a target=\"_blank\" href=https://colab.research.google.com/notebooks/data_table.ipynb>data table notebook</a>'\n",
              "          + ' to learn more about interactive tables.';\n",
              "        element.innerHTML = '';\n",
              "        dataTable['output_type'] = 'display_data';\n",
              "        await google.colab.output.renderOutput(dataTable, element);\n",
              "        const docLink = document.createElement('div');\n",
              "        docLink.innerHTML = docLinkHtml;\n",
              "        element.appendChild(docLink);\n",
              "      }\n",
              "    </script>\n",
              "  </div>\n",
              "\n",
              "\n",
              "<div id=\"df-d7937441-55c2-405a-9dc1-3eee87e9ca54\">\n",
              "  <button class=\"colab-df-quickchart\" onclick=\"quickchart('df-d7937441-55c2-405a-9dc1-3eee87e9ca54')\"\n",
              "            title=\"Suggest charts\"\n",
              "            style=\"display:none;\">\n",
              "\n",
              "<svg xmlns=\"http://www.w3.org/2000/svg\" height=\"24px\"viewBox=\"0 0 24 24\"\n",
              "     width=\"24px\">\n",
              "    <g>\n",
              "        <path d=\"M19 3H5c-1.1 0-2 .9-2 2v14c0 1.1.9 2 2 2h14c1.1 0 2-.9 2-2V5c0-1.1-.9-2-2-2zM9 17H7v-7h2v7zm4 0h-2V7h2v10zm4 0h-2v-4h2v4z\"/>\n",
              "    </g>\n",
              "</svg>\n",
              "  </button>\n",
              "\n",
              "<style>\n",
              "  .colab-df-quickchart {\n",
              "      --bg-color: #E8F0FE;\n",
              "      --fill-color: #1967D2;\n",
              "      --hover-bg-color: #E2EBFA;\n",
              "      --hover-fill-color: #174EA6;\n",
              "      --disabled-fill-color: #AAA;\n",
              "      --disabled-bg-color: #DDD;\n",
              "  }\n",
              "\n",
              "  [theme=dark] .colab-df-quickchart {\n",
              "      --bg-color: #3B4455;\n",
              "      --fill-color: #D2E3FC;\n",
              "      --hover-bg-color: #434B5C;\n",
              "      --hover-fill-color: #FFFFFF;\n",
              "      --disabled-bg-color: #3B4455;\n",
              "      --disabled-fill-color: #666;\n",
              "  }\n",
              "\n",
              "  .colab-df-quickchart {\n",
              "    background-color: var(--bg-color);\n",
              "    border: none;\n",
              "    border-radius: 50%;\n",
              "    cursor: pointer;\n",
              "    display: none;\n",
              "    fill: var(--fill-color);\n",
              "    height: 32px;\n",
              "    padding: 0;\n",
              "    width: 32px;\n",
              "  }\n",
              "\n",
              "  .colab-df-quickchart:hover {\n",
              "    background-color: var(--hover-bg-color);\n",
              "    box-shadow: 0 1px 2px rgba(60, 64, 67, 0.3), 0 1px 3px 1px rgba(60, 64, 67, 0.15);\n",
              "    fill: var(--button-hover-fill-color);\n",
              "  }\n",
              "\n",
              "  .colab-df-quickchart-complete:disabled,\n",
              "  .colab-df-quickchart-complete:disabled:hover {\n",
              "    background-color: var(--disabled-bg-color);\n",
              "    fill: var(--disabled-fill-color);\n",
              "    box-shadow: none;\n",
              "  }\n",
              "\n",
              "  .colab-df-spinner {\n",
              "    border: 2px solid var(--fill-color);\n",
              "    border-color: transparent;\n",
              "    border-bottom-color: var(--fill-color);\n",
              "    animation:\n",
              "      spin 1s steps(1) infinite;\n",
              "  }\n",
              "\n",
              "  @keyframes spin {\n",
              "    0% {\n",
              "      border-color: transparent;\n",
              "      border-bottom-color: var(--fill-color);\n",
              "      border-left-color: var(--fill-color);\n",
              "    }\n",
              "    20% {\n",
              "      border-color: transparent;\n",
              "      border-left-color: var(--fill-color);\n",
              "      border-top-color: var(--fill-color);\n",
              "    }\n",
              "    30% {\n",
              "      border-color: transparent;\n",
              "      border-left-color: var(--fill-color);\n",
              "      border-top-color: var(--fill-color);\n",
              "      border-right-color: var(--fill-color);\n",
              "    }\n",
              "    40% {\n",
              "      border-color: transparent;\n",
              "      border-right-color: var(--fill-color);\n",
              "      border-top-color: var(--fill-color);\n",
              "    }\n",
              "    60% {\n",
              "      border-color: transparent;\n",
              "      border-right-color: var(--fill-color);\n",
              "    }\n",
              "    80% {\n",
              "      border-color: transparent;\n",
              "      border-right-color: var(--fill-color);\n",
              "      border-bottom-color: var(--fill-color);\n",
              "    }\n",
              "    90% {\n",
              "      border-color: transparent;\n",
              "      border-bottom-color: var(--fill-color);\n",
              "    }\n",
              "  }\n",
              "</style>\n",
              "\n",
              "  <script>\n",
              "    async function quickchart(key) {\n",
              "      const quickchartButtonEl =\n",
              "        document.querySelector('#' + key + ' button');\n",
              "      quickchartButtonEl.disabled = true;  // To prevent multiple clicks.\n",
              "      quickchartButtonEl.classList.add('colab-df-spinner');\n",
              "      try {\n",
              "        const charts = await google.colab.kernel.invokeFunction(\n",
              "            'suggestCharts', [key], {});\n",
              "      } catch (error) {\n",
              "        console.error('Error during call to suggestCharts:', error);\n",
              "      }\n",
              "      quickchartButtonEl.classList.remove('colab-df-spinner');\n",
              "      quickchartButtonEl.classList.add('colab-df-quickchart-complete');\n",
              "    }\n",
              "    (() => {\n",
              "      let quickchartButtonEl =\n",
              "        document.querySelector('#df-d7937441-55c2-405a-9dc1-3eee87e9ca54 button');\n",
              "      quickchartButtonEl.style.display =\n",
              "        google.colab.kernel.accessAllowed ? 'block' : 'none';\n",
              "    })();\n",
              "  </script>\n",
              "</div>\n",
              "\n",
              "    </div>\n",
              "  </div>\n"
            ],
            "application/vnd.google.colaboratory.intrinsic+json": {
              "type": "dataframe",
              "variable_name": "train_df",
              "summary": "{\n  \"name\": \"train_df\",\n  \"rows\": 3207,\n  \"fields\": [\n    {\n      \"column\": \"text\",\n      \"properties\": {\n        \"dtype\": \"string\",\n        \"num_unique_values\": 2900,\n        \"samples\": [\n          \"Streep, Judi Dench slam Weinstein over sexual harassment claims LOS ANGELES (Reuters) - Meryl Streep and Judi Dench, two of Hollywood\\u2019s most respected actresses, lashed out at movie producer Harvey Weinstein on Monday but said they were unaware of his decades of alleged sexual harassment of women.\\nAs Hollywood moved to distance itself from Weinstein, Streep said she had been appalled by the claims made against the film studio executive she once likened to \\u201cGod\\u201d in a 2012 awards speech.\\nHis \\u201cbehavior is inexcusable, but the abuse of power familiar,\\u201d Streep said a statement.\\nBritain\\u2019s Dench, who won a supporting actress Oscar in 1999 for the Weinstein-produced film \\u201cShakespeare in Love,\\u201d said in a statement she was \\u201ccompletely unaware of these offences, which are of course horrifying.\\u201d\\nStars like Streep and Dench, whose movies had been championed by Weinstein, have been under pressure to speak out after a New York Times investigation last week detailed claims by multiple women of unwanted physical contact by Weinstein over three decades.\\nWeinstein, 65, initially apologized but later threatened to sue over the allegations uncovered by the newspaper. He has not been charged with any crimes but was fired on Sunday as co-chairman of the Weinstein amid fallout from the Times story.\\nFILE PHOTO: Actor Meryl Streep attends a ceremony for the unveiling of the star for actor Viola Davis on the Hollywood Walk of Fame in Hollywood, California U.S., January 5, 2017. REUTERS/Mario Anzuoni\\nIn a statement to the Huffington Post, Streep said she had been unaware of claims that Weinstein undressed in front of actresses and assistants and asked young women to give him massages.\\n\\u201cThe disgraceful news about Harvey Weinstein has appalled those of us whose work he championed,\\u201d Streep said.\\nSlideshow (3 Images)\\nProducer and director Kevin Smith said on Monday he regretted taking money from Weinstein\\u2019s production company.\\n\\u201cHe financed the first 14 years of my career - and now I know while I was profiting, others were in terrible pain. It makes me feel ashamed,\\u201d Smith, known for the comedies \\u201cJay and Silent Bob Strike Back\\u201d and \\u201cClerks,\\u201d wrote on Twitter.\\nActresses Ashley Judd and Rose McGowan have said Weinstein sexually harassed them and movie director Judd Apatow and producer Megan Ellison are among those have spoken out in support of them.\\nWeinstein is the latest U.S. media or entertainment industry titan to face sexual harassment accusations. At Fox News, late Chief Executive Officer Roger Ailes was forced out in 2016 and anchor Bill O\\u2018Reilly resigned in April after similar claims.\\nMore than 50 women have accused comedian Bill Cosby of sexual assault. He faces a retrial in April on the one criminal case against him.\",\n          \"Diary of Anne Frank transformed into graphic adaptation Image caption Seventy years after its first publication, Anne Frank's original diary is being transformed\\n\\\"We do have similar personalities. I'm a bookworm, I love books.\\\"\\nIndia is 14 years old. She's wrapped up in a maroon Harry Potter hoodie.\\nLike so many readers around the world, Anne Frank has helped her to understand an otherwise unimaginable and distant chapter of history.\\nIndia is one of a group of pupils congregated outside a canal-side warehouse in Amsterdam, where Anne's father once sold the gelling agent pectin. They've come to learn more about the life of the young wartime diarist.\\nImage caption Pupils from Dundee's Harris Academy in Scotland visit the building where Anne Frank and her family hid from the Nazis\\nAnne Frank was 15 when she died. She was an aspiring author, and one of more than a million Jewish children killed in the Holocaust.\\nToday her diary - which she nicknamed Kitty - is one of the most-read books in the world. Her teenage prose has spawned Hollywood screenplays, Broadway shows and countless other (re)productions.\\nNow it has been adapted into comic-strip format, in a book produced by the creators of the Oscar-nominated animation Waltz with Bashir, and there is a film coming soon too.\\nImage caption Scenes from the original book are reimagined in the Graphic Diary of Anne Frank\\nAccompanied by excerpts from her diaries and letters, the \\\"graphic diary\\\" depicts the story of how Anne Frank and her family went into hiding after her sister Margot received a summons to report to a Nazi work camp.\\nThey survived for almost two years, tiptoeing around in the dark, damp confines of the \\\"achterhuis\\\" (secret annex) before being discovered.\\nNazis emptied Anne's schoolbag to carry cash and jewellery looted from Jewish homes - her distinctive red-checked diary was recovered from the floor of the hideout.\\nRead more on the Holocaust:\\nThe Holocaust: Who are the missing million?\\nThe Holocaust year by year\\nThe hidden graves of the Holocaust\\nAri Folman, author and director of the new graphic adaptation, says he wants to ensure Anne's legacy remains relevant.\\n\\\"The Graphic Diary is the perfect solution for the next generation,\\\" he says.\\n\\\"To reach the readers of the diary you also have to find their language - more people will get to know the story. Period.\\\"\\nIn fact, readership of the original is increasing every year.\\nImage caption Anne Frank who died of typhus in the Bergen-Belsen concentration camp at the age of 15\\nI don\\u2019t think of all the misery but of the beauty that still remains. from The Diary of Anne Frank\\nAnne Frank has come to symbolise courage, optimism and determination.\\nBut it is her teenage attitude and frustrations that resonate with young people.\\n\\\"It's easy to understand. She's eloquent,\\\" explains Eilidh Lean from the Anne Frank Trust, as she follows the Scottish students towards the secret annex where the Frank family hid.\\n\\\"Six million people [approximate number of Jews murdered during World War Two] is difficult to get their heads around. Anne puts a human face on it. You can tell she's 13. She's going through puberty. They can empathise with her.\\\"\\nBut reimaging Anne's famous prose in cartoon form was not an easy decision.\\nIllustrator David Polonsky was initially reluctant, for fear of becoming part of the \\\"Holocaust industry\\\" sometimes accused of commodifying the Diary of a Young Girl (also known as The Diary of Anne Frank).\\nBut he hopes the images will inform and stimulate contemporary debates about people forced out of their homes by politicians waging war.\\n\\\"It is one story about one person, and each immigrant has a different story, too,\\\" he says.\\nImage caption Zahara Belen Mackay and Sammy Neeter attend the Montessori school that Anne Frank attended before the Nazis made all Jews attend Jewish schools\\nAt the Montessori primary that Anne Frank attended before the Nazis created Jewish-only schools, not all the pupils are convinced the new version is necessary.\\nThe concrete building stands in the southern suburbs, away from the city centre tourist strips. Colourful children's bikes lean against one another outside.\\nEleven-year-old pupils Sammy Neeter and Zahara Belen Mackay are conscious of the historical significance of their environment, proudly leading me to see Anne's old wooden desk. Sammy says it's \\\"weird but cool\\\" that he used to sit in her classroom.\\nHis mother read Anne Frank's diary to him when he was seven years old. What does this earnest young man make of the comic-book style of interpretation?\\n\\\"When you look at the pictures you cannot really see what happened; when you read the diary you can see more with your imagination...\\\"\\nBut Zahara believes this approach could help to engage younger audiences.\\n\\\"It's nice for little children, but once you go to the secondary school you should just read the original book because it's very nice and it actually has her words.\\\"\\nWhat is done cannot be undone, but one can prevent it happening again. from The Diary of Anne Frank\\nThe pupils from Dundee's Harris Academy have stepped out of the claustrophobic confines of the secret annex and into the invigorating autumn sunshine; inspired after literally walking an hour in Anne Frank's footsteps.\\n\\\"It's quite surreal,\\\" Joshua reflects, gazing downwards. \\\"I saw how she lived... being determined and, like, just getting through and keeping on going.\\n\\\"Now we've been here we can see how this genocide happened and we need to go home and really band together to make sure it never happens again.\\\"\\nThe Graphic Diary of Anne Frank is published in the Netherlands and Germany. An English edition will reach audiences in the UK and US early 2018. An animated film is scheduled for release in 2019.\",\n          \"Rising number of children prey to deadly malnutrition in conflict-hit Mali: U.N. DAKAR (Thomson Reuters Foundation) - Tens of thousands of children in Mali are prey to life-threatening malnutrition as violence and displacement fuel a deepening nutrition crisis in the West African nation, the United Nations children\\u2019s agency (UNICEF) said on Monday.\\nAbout 165,000 children are expected to suffer from severe acute malnutrition across Mali next year - up from an estimated total of 142,000 during this year - according to UNICEF.\\nThose who suffer from the severe form of acute malnutrition see their muscles waste away, have very low weight for their height, and are nine times more likely to die in case of disease - such as diarrhea or malaria - due to a weakened immune system.\\nThe rates of global acute malnutrition, the less threatening form, among children in the conflict-hit northern areas of Gao and Timbuktu have risen this year to above 15 percent, exceeding the emergency threshold set by the World Health Organization.\\nAt least a tenth of children across Mali are suffering from global acute malnutrition, according to new government data.\\n\\u201cBehind these figures are the lives of the most vulnerable and forgotten girls and boys in Mali,\\u201d UNICEF representative Lucia Elmi said in a statement after the data was published.\\n\\u201cWe must provide life-saving treatment and ensure each and every one of these children can fully recover,\\u201d Elmi added.\\nViolence in northern Mali has uprooted tens of thousands of people, disrupted health services and hindered access to water and sanitation, leaving even more children at risk, UNICEF said.\\nFrench troops and U.N. peacekeepers have been battling to stabilize Mali, a former French colony, ever since France intervened in 2013 to push back jihadists and allied Tuareg rebels who took over the country\\u2019s desert north in 2012.\\n\\u201cEfforts need to be intensified to build the resilience of families through improved food security, prevention and treatment of severe acute malnutrition, access to water and sanitation,\\u201d said No\\u00ebl Zagr\\u00e9, a nutrition advisor with UNICEF.\\nChildren must be closely monitored during their first three years of life - with families ensuring they are exclusively breastfed for the first six months and handwashing with clean water and soap - to prevent malnutrition, according to UNICEF.\\nReporting By Kieran Guilbert, Editing by Ros Russell; Please credit the Thomson Reuters Foundation, the charitable arm of Thomson Reuters, that covers humanitarian news, women's rights, trafficking, property rights, climate change and resilience. Visit news.trust.org\"\n        ],\n        \"semantic_type\": \"\",\n        \"description\": \"\"\n      }\n    },\n    {\n      \"column\": \"label\",\n      \"properties\": {\n        \"dtype\": \"number\",\n        \"std\": 0,\n        \"min\": 0,\n        \"max\": 1,\n        \"num_unique_values\": 2,\n        \"samples\": [\n          0,\n          1\n        ],\n        \"semantic_type\": \"\",\n        \"description\": \"\"\n      }\n    }\n  ]\n}"
            }
          },
          "metadata": {},
          "execution_count": 121
        }
      ]
    },
    {
      "cell_type": "code",
      "source": [
        "print(type(train_df['text']))"
      ],
      "metadata": {
        "id": "qcFo-AmA4NGW",
        "outputId": "5407330c-b550-43c4-e36e-9d3418973fe2",
        "colab": {
          "base_uri": "https://localhost:8080/"
        }
      },
      "execution_count": null,
      "outputs": [
        {
          "output_type": "stream",
          "name": "stdout",
          "text": [
            "<class 'pandas.core.series.Series'>\n"
          ]
        }
      ]
    },
    {
      "cell_type": "code",
      "source": [
        "# Tokenization\n",
        "model_name = \"bert-base-uncased\"\n",
        "tokenizer = AutoTokenizer.from_pretrained(model_name)\n",
        "#tokenizer.pad_token = tokenizer.eos_token\n",
        "\n",
        "def tokenize_function(examples):\n",
        "\n",
        "  #print(examples)\n",
        "\n",
        "  return tokenizer(examples, truncation=True, padding=\"max_length\", max_length=128)\n",
        "\n",
        "train_df['tokenized'] = train_df[\"text\"].apply(tokenize_function)\n",
        "test_df['tokenized'] = test_df[\"text\"].apply(tokenize_function)\n",
        "\n",
        "\n",
        "\n"
      ],
      "metadata": {
        "id": "G-6O75RddyP2"
      },
      "execution_count": null,
      "outputs": []
    },
    {
      "cell_type": "code",
      "source": [
        "# Extract the tokenized components\n",
        "train_df['input_ids'] = train_df['tokenized'].apply(lambda x: x['input_ids'])\n",
        "train_df['attention_mask'] = train_df['tokenized'].apply(lambda x: x['attention_mask'])\n",
        "train_df['token_type_ids'] = train_df['tokenized'].apply(lambda x: x.get('token_type_ids', None))  # in case some don't have token_type_ids\n",
        "\n",
        "# Convert the DataFrame to a Hugging Face Dataset\n",
        "train_dataset = Dataset.from_pandas(train_df[['input_ids', 'attention_mask', 'token_type_ids', 'label']])\n"
      ],
      "metadata": {
        "id": "UbMn3iQBHPVW"
      },
      "execution_count": null,
      "outputs": []
    },
    {
      "cell_type": "code",
      "source": [
        "# Extract the tokenized components\n",
        "test_df['input_ids'] = test_df['tokenized'].apply(lambda x: x['input_ids'])\n",
        "test_df['attention_mask'] = test_df['tokenized'].apply(lambda x: x['attention_mask'])\n",
        "test_df['token_type_ids'] = test_df['tokenized'].apply(lambda x: x.get('token_type_ids', None))  # in case some don't have token_type_ids\n",
        "\n",
        "# Convert the DataFrame to a Hugging Face Dataset\n",
        "test_dataset = Dataset.from_pandas(test_df[['input_ids', 'attention_mask', 'token_type_ids', 'label']])\n"
      ],
      "metadata": {
        "id": "p23EgH8mHLxD"
      },
      "execution_count": null,
      "outputs": []
    },
    {
      "cell_type": "code",
      "source": [
        "train_df.head()"
      ],
      "metadata": {
        "id": "NKH2r6iVFNbD",
        "outputId": "55c7fe94-63cc-4af3-e609-154f22053b5e",
        "colab": {
          "base_uri": "https://localhost:8080/",
          "height": 206
        }
      },
      "execution_count": null,
      "outputs": [
        {
          "output_type": "execute_result",
          "data": {
            "text/plain": [
              "                                                   text  label  \\\n",
              "2473  Rugby League World Cup: Kear names uncapped tr...      1   \n",
              "1338  Execution Still Haunts Village, 50 Years After...      1   \n",
              "1613  Police take shot at actor on movie set Chat wi...      1   \n",
              "1610  Catalan leader under pressure to drop independ...      1   \n",
              "2600  Dunderhead of the Week Dunderhead of the Week\\...      0   \n",
              "\n",
              "                                        tokenized  \n",
              "2473  [input_ids, token_type_ids, attention_mask]  \n",
              "1338  [input_ids, token_type_ids, attention_mask]  \n",
              "1613  [input_ids, token_type_ids, attention_mask]  \n",
              "1610  [input_ids, token_type_ids, attention_mask]  \n",
              "2600  [input_ids, token_type_ids, attention_mask]  "
            ],
            "text/html": [
              "\n",
              "  <div id=\"df-a2275169-77bb-47c4-b30e-0e89ddf34b49\" class=\"colab-df-container\">\n",
              "    <div>\n",
              "<style scoped>\n",
              "    .dataframe tbody tr th:only-of-type {\n",
              "        vertical-align: middle;\n",
              "    }\n",
              "\n",
              "    .dataframe tbody tr th {\n",
              "        vertical-align: top;\n",
              "    }\n",
              "\n",
              "    .dataframe thead th {\n",
              "        text-align: right;\n",
              "    }\n",
              "</style>\n",
              "<table border=\"1\" class=\"dataframe\">\n",
              "  <thead>\n",
              "    <tr style=\"text-align: right;\">\n",
              "      <th></th>\n",
              "      <th>text</th>\n",
              "      <th>label</th>\n",
              "      <th>tokenized</th>\n",
              "    </tr>\n",
              "  </thead>\n",
              "  <tbody>\n",
              "    <tr>\n",
              "      <th>2473</th>\n",
              "      <td>Rugby League World Cup: Kear names uncapped tr...</td>\n",
              "      <td>1</td>\n",
              "      <td>[input_ids, token_type_ids, attention_mask]</td>\n",
              "    </tr>\n",
              "    <tr>\n",
              "      <th>1338</th>\n",
              "      <td>Execution Still Haunts Village, 50 Years After...</td>\n",
              "      <td>1</td>\n",
              "      <td>[input_ids, token_type_ids, attention_mask]</td>\n",
              "    </tr>\n",
              "    <tr>\n",
              "      <th>1613</th>\n",
              "      <td>Police take shot at actor on movie set Chat wi...</td>\n",
              "      <td>1</td>\n",
              "      <td>[input_ids, token_type_ids, attention_mask]</td>\n",
              "    </tr>\n",
              "    <tr>\n",
              "      <th>1610</th>\n",
              "      <td>Catalan leader under pressure to drop independ...</td>\n",
              "      <td>1</td>\n",
              "      <td>[input_ids, token_type_ids, attention_mask]</td>\n",
              "    </tr>\n",
              "    <tr>\n",
              "      <th>2600</th>\n",
              "      <td>Dunderhead of the Week Dunderhead of the Week\\...</td>\n",
              "      <td>0</td>\n",
              "      <td>[input_ids, token_type_ids, attention_mask]</td>\n",
              "    </tr>\n",
              "  </tbody>\n",
              "</table>\n",
              "</div>\n",
              "    <div class=\"colab-df-buttons\">\n",
              "\n",
              "  <div class=\"colab-df-container\">\n",
              "    <button class=\"colab-df-convert\" onclick=\"convertToInteractive('df-a2275169-77bb-47c4-b30e-0e89ddf34b49')\"\n",
              "            title=\"Convert this dataframe to an interactive table.\"\n",
              "            style=\"display:none;\">\n",
              "\n",
              "  <svg xmlns=\"http://www.w3.org/2000/svg\" height=\"24px\" viewBox=\"0 -960 960 960\">\n",
              "    <path d=\"M120-120v-720h720v720H120Zm60-500h600v-160H180v160Zm220 220h160v-160H400v160Zm0 220h160v-160H400v160ZM180-400h160v-160H180v160Zm440 0h160v-160H620v160ZM180-180h160v-160H180v160Zm440 0h160v-160H620v160Z\"/>\n",
              "  </svg>\n",
              "    </button>\n",
              "\n",
              "  <style>\n",
              "    .colab-df-container {\n",
              "      display:flex;\n",
              "      gap: 12px;\n",
              "    }\n",
              "\n",
              "    .colab-df-convert {\n",
              "      background-color: #E8F0FE;\n",
              "      border: none;\n",
              "      border-radius: 50%;\n",
              "      cursor: pointer;\n",
              "      display: none;\n",
              "      fill: #1967D2;\n",
              "      height: 32px;\n",
              "      padding: 0 0 0 0;\n",
              "      width: 32px;\n",
              "    }\n",
              "\n",
              "    .colab-df-convert:hover {\n",
              "      background-color: #E2EBFA;\n",
              "      box-shadow: 0px 1px 2px rgba(60, 64, 67, 0.3), 0px 1px 3px 1px rgba(60, 64, 67, 0.15);\n",
              "      fill: #174EA6;\n",
              "    }\n",
              "\n",
              "    .colab-df-buttons div {\n",
              "      margin-bottom: 4px;\n",
              "    }\n",
              "\n",
              "    [theme=dark] .colab-df-convert {\n",
              "      background-color: #3B4455;\n",
              "      fill: #D2E3FC;\n",
              "    }\n",
              "\n",
              "    [theme=dark] .colab-df-convert:hover {\n",
              "      background-color: #434B5C;\n",
              "      box-shadow: 0px 1px 3px 1px rgba(0, 0, 0, 0.15);\n",
              "      filter: drop-shadow(0px 1px 2px rgba(0, 0, 0, 0.3));\n",
              "      fill: #FFFFFF;\n",
              "    }\n",
              "  </style>\n",
              "\n",
              "    <script>\n",
              "      const buttonEl =\n",
              "        document.querySelector('#df-a2275169-77bb-47c4-b30e-0e89ddf34b49 button.colab-df-convert');\n",
              "      buttonEl.style.display =\n",
              "        google.colab.kernel.accessAllowed ? 'block' : 'none';\n",
              "\n",
              "      async function convertToInteractive(key) {\n",
              "        const element = document.querySelector('#df-a2275169-77bb-47c4-b30e-0e89ddf34b49');\n",
              "        const dataTable =\n",
              "          await google.colab.kernel.invokeFunction('convertToInteractive',\n",
              "                                                    [key], {});\n",
              "        if (!dataTable) return;\n",
              "\n",
              "        const docLinkHtml = 'Like what you see? Visit the ' +\n",
              "          '<a target=\"_blank\" href=https://colab.research.google.com/notebooks/data_table.ipynb>data table notebook</a>'\n",
              "          + ' to learn more about interactive tables.';\n",
              "        element.innerHTML = '';\n",
              "        dataTable['output_type'] = 'display_data';\n",
              "        await google.colab.output.renderOutput(dataTable, element);\n",
              "        const docLink = document.createElement('div');\n",
              "        docLink.innerHTML = docLinkHtml;\n",
              "        element.appendChild(docLink);\n",
              "      }\n",
              "    </script>\n",
              "  </div>\n",
              "\n",
              "\n",
              "<div id=\"df-f8124aa9-7fdb-46b3-855a-10c188cf5122\">\n",
              "  <button class=\"colab-df-quickchart\" onclick=\"quickchart('df-f8124aa9-7fdb-46b3-855a-10c188cf5122')\"\n",
              "            title=\"Suggest charts\"\n",
              "            style=\"display:none;\">\n",
              "\n",
              "<svg xmlns=\"http://www.w3.org/2000/svg\" height=\"24px\"viewBox=\"0 0 24 24\"\n",
              "     width=\"24px\">\n",
              "    <g>\n",
              "        <path d=\"M19 3H5c-1.1 0-2 .9-2 2v14c0 1.1.9 2 2 2h14c1.1 0 2-.9 2-2V5c0-1.1-.9-2-2-2zM9 17H7v-7h2v7zm4 0h-2V7h2v10zm4 0h-2v-4h2v4z\"/>\n",
              "    </g>\n",
              "</svg>\n",
              "  </button>\n",
              "\n",
              "<style>\n",
              "  .colab-df-quickchart {\n",
              "      --bg-color: #E8F0FE;\n",
              "      --fill-color: #1967D2;\n",
              "      --hover-bg-color: #E2EBFA;\n",
              "      --hover-fill-color: #174EA6;\n",
              "      --disabled-fill-color: #AAA;\n",
              "      --disabled-bg-color: #DDD;\n",
              "  }\n",
              "\n",
              "  [theme=dark] .colab-df-quickchart {\n",
              "      --bg-color: #3B4455;\n",
              "      --fill-color: #D2E3FC;\n",
              "      --hover-bg-color: #434B5C;\n",
              "      --hover-fill-color: #FFFFFF;\n",
              "      --disabled-bg-color: #3B4455;\n",
              "      --disabled-fill-color: #666;\n",
              "  }\n",
              "\n",
              "  .colab-df-quickchart {\n",
              "    background-color: var(--bg-color);\n",
              "    border: none;\n",
              "    border-radius: 50%;\n",
              "    cursor: pointer;\n",
              "    display: none;\n",
              "    fill: var(--fill-color);\n",
              "    height: 32px;\n",
              "    padding: 0;\n",
              "    width: 32px;\n",
              "  }\n",
              "\n",
              "  .colab-df-quickchart:hover {\n",
              "    background-color: var(--hover-bg-color);\n",
              "    box-shadow: 0 1px 2px rgba(60, 64, 67, 0.3), 0 1px 3px 1px rgba(60, 64, 67, 0.15);\n",
              "    fill: var(--button-hover-fill-color);\n",
              "  }\n",
              "\n",
              "  .colab-df-quickchart-complete:disabled,\n",
              "  .colab-df-quickchart-complete:disabled:hover {\n",
              "    background-color: var(--disabled-bg-color);\n",
              "    fill: var(--disabled-fill-color);\n",
              "    box-shadow: none;\n",
              "  }\n",
              "\n",
              "  .colab-df-spinner {\n",
              "    border: 2px solid var(--fill-color);\n",
              "    border-color: transparent;\n",
              "    border-bottom-color: var(--fill-color);\n",
              "    animation:\n",
              "      spin 1s steps(1) infinite;\n",
              "  }\n",
              "\n",
              "  @keyframes spin {\n",
              "    0% {\n",
              "      border-color: transparent;\n",
              "      border-bottom-color: var(--fill-color);\n",
              "      border-left-color: var(--fill-color);\n",
              "    }\n",
              "    20% {\n",
              "      border-color: transparent;\n",
              "      border-left-color: var(--fill-color);\n",
              "      border-top-color: var(--fill-color);\n",
              "    }\n",
              "    30% {\n",
              "      border-color: transparent;\n",
              "      border-left-color: var(--fill-color);\n",
              "      border-top-color: var(--fill-color);\n",
              "      border-right-color: var(--fill-color);\n",
              "    }\n",
              "    40% {\n",
              "      border-color: transparent;\n",
              "      border-right-color: var(--fill-color);\n",
              "      border-top-color: var(--fill-color);\n",
              "    }\n",
              "    60% {\n",
              "      border-color: transparent;\n",
              "      border-right-color: var(--fill-color);\n",
              "    }\n",
              "    80% {\n",
              "      border-color: transparent;\n",
              "      border-right-color: var(--fill-color);\n",
              "      border-bottom-color: var(--fill-color);\n",
              "    }\n",
              "    90% {\n",
              "      border-color: transparent;\n",
              "      border-bottom-color: var(--fill-color);\n",
              "    }\n",
              "  }\n",
              "</style>\n",
              "\n",
              "  <script>\n",
              "    async function quickchart(key) {\n",
              "      const quickchartButtonEl =\n",
              "        document.querySelector('#' + key + ' button');\n",
              "      quickchartButtonEl.disabled = true;  // To prevent multiple clicks.\n",
              "      quickchartButtonEl.classList.add('colab-df-spinner');\n",
              "      try {\n",
              "        const charts = await google.colab.kernel.invokeFunction(\n",
              "            'suggestCharts', [key], {});\n",
              "      } catch (error) {\n",
              "        console.error('Error during call to suggestCharts:', error);\n",
              "      }\n",
              "      quickchartButtonEl.classList.remove('colab-df-spinner');\n",
              "      quickchartButtonEl.classList.add('colab-df-quickchart-complete');\n",
              "    }\n",
              "    (() => {\n",
              "      let quickchartButtonEl =\n",
              "        document.querySelector('#df-f8124aa9-7fdb-46b3-855a-10c188cf5122 button');\n",
              "      quickchartButtonEl.style.display =\n",
              "        google.colab.kernel.accessAllowed ? 'block' : 'none';\n",
              "    })();\n",
              "  </script>\n",
              "</div>\n",
              "\n",
              "    </div>\n",
              "  </div>\n"
            ],
            "application/vnd.google.colaboratory.intrinsic+json": {
              "type": "dataframe",
              "variable_name": "train_df",
              "summary": "{\n  \"name\": \"train_df\",\n  \"rows\": 3207,\n  \"fields\": [\n    {\n      \"column\": \"text\",\n      \"properties\": {\n        \"dtype\": \"string\",\n        \"num_unique_values\": 2900,\n        \"samples\": [\n          \"Streep, Judi Dench slam Weinstein over sexual harassment claims LOS ANGELES (Reuters) - Meryl Streep and Judi Dench, two of Hollywood\\u2019s most respected actresses, lashed out at movie producer Harvey Weinstein on Monday but said they were unaware of his decades of alleged sexual harassment of women.\\nAs Hollywood moved to distance itself from Weinstein, Streep said she had been appalled by the claims made against the film studio executive she once likened to \\u201cGod\\u201d in a 2012 awards speech.\\nHis \\u201cbehavior is inexcusable, but the abuse of power familiar,\\u201d Streep said a statement.\\nBritain\\u2019s Dench, who won a supporting actress Oscar in 1999 for the Weinstein-produced film \\u201cShakespeare in Love,\\u201d said in a statement she was \\u201ccompletely unaware of these offences, which are of course horrifying.\\u201d\\nStars like Streep and Dench, whose movies had been championed by Weinstein, have been under pressure to speak out after a New York Times investigation last week detailed claims by multiple women of unwanted physical contact by Weinstein over three decades.\\nWeinstein, 65, initially apologized but later threatened to sue over the allegations uncovered by the newspaper. He has not been charged with any crimes but was fired on Sunday as co-chairman of the Weinstein amid fallout from the Times story.\\nFILE PHOTO: Actor Meryl Streep attends a ceremony for the unveiling of the star for actor Viola Davis on the Hollywood Walk of Fame in Hollywood, California U.S., January 5, 2017. REUTERS/Mario Anzuoni\\nIn a statement to the Huffington Post, Streep said she had been unaware of claims that Weinstein undressed in front of actresses and assistants and asked young women to give him massages.\\n\\u201cThe disgraceful news about Harvey Weinstein has appalled those of us whose work he championed,\\u201d Streep said.\\nSlideshow (3 Images)\\nProducer and director Kevin Smith said on Monday he regretted taking money from Weinstein\\u2019s production company.\\n\\u201cHe financed the first 14 years of my career - and now I know while I was profiting, others were in terrible pain. It makes me feel ashamed,\\u201d Smith, known for the comedies \\u201cJay and Silent Bob Strike Back\\u201d and \\u201cClerks,\\u201d wrote on Twitter.\\nActresses Ashley Judd and Rose McGowan have said Weinstein sexually harassed them and movie director Judd Apatow and producer Megan Ellison are among those have spoken out in support of them.\\nWeinstein is the latest U.S. media or entertainment industry titan to face sexual harassment accusations. At Fox News, late Chief Executive Officer Roger Ailes was forced out in 2016 and anchor Bill O\\u2018Reilly resigned in April after similar claims.\\nMore than 50 women have accused comedian Bill Cosby of sexual assault. He faces a retrial in April on the one criminal case against him.\",\n          \"Diary of Anne Frank transformed into graphic adaptation Image caption Seventy years after its first publication, Anne Frank's original diary is being transformed\\n\\\"We do have similar personalities. I'm a bookworm, I love books.\\\"\\nIndia is 14 years old. She's wrapped up in a maroon Harry Potter hoodie.\\nLike so many readers around the world, Anne Frank has helped her to understand an otherwise unimaginable and distant chapter of history.\\nIndia is one of a group of pupils congregated outside a canal-side warehouse in Amsterdam, where Anne's father once sold the gelling agent pectin. They've come to learn more about the life of the young wartime diarist.\\nImage caption Pupils from Dundee's Harris Academy in Scotland visit the building where Anne Frank and her family hid from the Nazis\\nAnne Frank was 15 when she died. She was an aspiring author, and one of more than a million Jewish children killed in the Holocaust.\\nToday her diary - which she nicknamed Kitty - is one of the most-read books in the world. Her teenage prose has spawned Hollywood screenplays, Broadway shows and countless other (re)productions.\\nNow it has been adapted into comic-strip format, in a book produced by the creators of the Oscar-nominated animation Waltz with Bashir, and there is a film coming soon too.\\nImage caption Scenes from the original book are reimagined in the Graphic Diary of Anne Frank\\nAccompanied by excerpts from her diaries and letters, the \\\"graphic diary\\\" depicts the story of how Anne Frank and her family went into hiding after her sister Margot received a summons to report to a Nazi work camp.\\nThey survived for almost two years, tiptoeing around in the dark, damp confines of the \\\"achterhuis\\\" (secret annex) before being discovered.\\nNazis emptied Anne's schoolbag to carry cash and jewellery looted from Jewish homes - her distinctive red-checked diary was recovered from the floor of the hideout.\\nRead more on the Holocaust:\\nThe Holocaust: Who are the missing million?\\nThe Holocaust year by year\\nThe hidden graves of the Holocaust\\nAri Folman, author and director of the new graphic adaptation, says he wants to ensure Anne's legacy remains relevant.\\n\\\"The Graphic Diary is the perfect solution for the next generation,\\\" he says.\\n\\\"To reach the readers of the diary you also have to find their language - more people will get to know the story. Period.\\\"\\nIn fact, readership of the original is increasing every year.\\nImage caption Anne Frank who died of typhus in the Bergen-Belsen concentration camp at the age of 15\\nI don\\u2019t think of all the misery but of the beauty that still remains. from The Diary of Anne Frank\\nAnne Frank has come to symbolise courage, optimism and determination.\\nBut it is her teenage attitude and frustrations that resonate with young people.\\n\\\"It's easy to understand. She's eloquent,\\\" explains Eilidh Lean from the Anne Frank Trust, as she follows the Scottish students towards the secret annex where the Frank family hid.\\n\\\"Six million people [approximate number of Jews murdered during World War Two] is difficult to get their heads around. Anne puts a human face on it. You can tell she's 13. She's going through puberty. They can empathise with her.\\\"\\nBut reimaging Anne's famous prose in cartoon form was not an easy decision.\\nIllustrator David Polonsky was initially reluctant, for fear of becoming part of the \\\"Holocaust industry\\\" sometimes accused of commodifying the Diary of a Young Girl (also known as The Diary of Anne Frank).\\nBut he hopes the images will inform and stimulate contemporary debates about people forced out of their homes by politicians waging war.\\n\\\"It is one story about one person, and each immigrant has a different story, too,\\\" he says.\\nImage caption Zahara Belen Mackay and Sammy Neeter attend the Montessori school that Anne Frank attended before the Nazis made all Jews attend Jewish schools\\nAt the Montessori primary that Anne Frank attended before the Nazis created Jewish-only schools, not all the pupils are convinced the new version is necessary.\\nThe concrete building stands in the southern suburbs, away from the city centre tourist strips. Colourful children's bikes lean against one another outside.\\nEleven-year-old pupils Sammy Neeter and Zahara Belen Mackay are conscious of the historical significance of their environment, proudly leading me to see Anne's old wooden desk. Sammy says it's \\\"weird but cool\\\" that he used to sit in her classroom.\\nHis mother read Anne Frank's diary to him when he was seven years old. What does this earnest young man make of the comic-book style of interpretation?\\n\\\"When you look at the pictures you cannot really see what happened; when you read the diary you can see more with your imagination...\\\"\\nBut Zahara believes this approach could help to engage younger audiences.\\n\\\"It's nice for little children, but once you go to the secondary school you should just read the original book because it's very nice and it actually has her words.\\\"\\nWhat is done cannot be undone, but one can prevent it happening again. from The Diary of Anne Frank\\nThe pupils from Dundee's Harris Academy have stepped out of the claustrophobic confines of the secret annex and into the invigorating autumn sunshine; inspired after literally walking an hour in Anne Frank's footsteps.\\n\\\"It's quite surreal,\\\" Joshua reflects, gazing downwards. \\\"I saw how she lived... being determined and, like, just getting through and keeping on going.\\n\\\"Now we've been here we can see how this genocide happened and we need to go home and really band together to make sure it never happens again.\\\"\\nThe Graphic Diary of Anne Frank is published in the Netherlands and Germany. An English edition will reach audiences in the UK and US early 2018. An animated film is scheduled for release in 2019.\",\n          \"Rising number of children prey to deadly malnutrition in conflict-hit Mali: U.N. DAKAR (Thomson Reuters Foundation) - Tens of thousands of children in Mali are prey to life-threatening malnutrition as violence and displacement fuel a deepening nutrition crisis in the West African nation, the United Nations children\\u2019s agency (UNICEF) said on Monday.\\nAbout 165,000 children are expected to suffer from severe acute malnutrition across Mali next year - up from an estimated total of 142,000 during this year - according to UNICEF.\\nThose who suffer from the severe form of acute malnutrition see their muscles waste away, have very low weight for their height, and are nine times more likely to die in case of disease - such as diarrhea or malaria - due to a weakened immune system.\\nThe rates of global acute malnutrition, the less threatening form, among children in the conflict-hit northern areas of Gao and Timbuktu have risen this year to above 15 percent, exceeding the emergency threshold set by the World Health Organization.\\nAt least a tenth of children across Mali are suffering from global acute malnutrition, according to new government data.\\n\\u201cBehind these figures are the lives of the most vulnerable and forgotten girls and boys in Mali,\\u201d UNICEF representative Lucia Elmi said in a statement after the data was published.\\n\\u201cWe must provide life-saving treatment and ensure each and every one of these children can fully recover,\\u201d Elmi added.\\nViolence in northern Mali has uprooted tens of thousands of people, disrupted health services and hindered access to water and sanitation, leaving even more children at risk, UNICEF said.\\nFrench troops and U.N. peacekeepers have been battling to stabilize Mali, a former French colony, ever since France intervened in 2013 to push back jihadists and allied Tuareg rebels who took over the country\\u2019s desert north in 2012.\\n\\u201cEfforts need to be intensified to build the resilience of families through improved food security, prevention and treatment of severe acute malnutrition, access to water and sanitation,\\u201d said No\\u00ebl Zagr\\u00e9, a nutrition advisor with UNICEF.\\nChildren must be closely monitored during their first three years of life - with families ensuring they are exclusively breastfed for the first six months and handwashing with clean water and soap - to prevent malnutrition, according to UNICEF.\\nReporting By Kieran Guilbert, Editing by Ros Russell; Please credit the Thomson Reuters Foundation, the charitable arm of Thomson Reuters, that covers humanitarian news, women's rights, trafficking, property rights, climate change and resilience. Visit news.trust.org\"\n        ],\n        \"semantic_type\": \"\",\n        \"description\": \"\"\n      }\n    },\n    {\n      \"column\": \"label\",\n      \"properties\": {\n        \"dtype\": \"number\",\n        \"std\": 0,\n        \"min\": 0,\n        \"max\": 1,\n        \"num_unique_values\": 2,\n        \"samples\": [\n          0,\n          1\n        ],\n        \"semantic_type\": \"\",\n        \"description\": \"\"\n      }\n    },\n    {\n      \"column\": \"tokenized\",\n      \"properties\": {\n        \"dtype\": \"object\",\n        \"semantic_type\": \"\",\n        \"description\": \"\"\n      }\n    }\n  ]\n}"
            }
          },
          "metadata": {},
          "execution_count": 124
        }
      ]
    },
    {
      "cell_type": "code",
      "source": [
        "# Apply LoRA with PEFT\n",
        "model = AutoModelForSequenceClassification.from_pretrained(model_name, num_labels=2)  # Binary classification\n",
        "\n",
        "# Configure LoRA\n",
        "peft_config = LoraConfig(\n",
        "    r=8,\n",
        "    lora_alpha=32,\n",
        "       target_modules=[\"attention.self.query\", \"attention.self.value\"],  # Common targets for BERT models # Specify modules to adapt; check your model's layers\n",
        "    lora_dropout=0.1,\n",
        "    bias=\"none\",\n",
        "    task_type=TaskType.SEQ_CLS  # Sequence Classification task\n",
        ")"
      ],
      "metadata": {
        "colab": {
          "base_uri": "https://localhost:8080/"
        },
        "id": "T_WTe5QydyOj",
        "outputId": "13278f63-0346-4f1b-b164-fcea47e9297a"
      },
      "execution_count": null,
      "outputs": [
        {
          "output_type": "stream",
          "name": "stderr",
          "text": [
            "Some weights of BertForSequenceClassification were not initialized from the model checkpoint at bert-base-uncased and are newly initialized: ['classifier.bias', 'classifier.weight']\n",
            "You should probably TRAIN this model on a down-stream task to be able to use it for predictions and inference.\n"
          ]
        }
      ]
    },
    {
      "cell_type": "code",
      "source": [
        "# Apply PEFT to the model\n",
        "model = get_peft_model(model, peft_config)"
      ],
      "metadata": {
        "id": "LxHvDc-XkKKh"
      },
      "execution_count": null,
      "outputs": []
    },
    {
      "cell_type": "code",
      "source": [
        "# Define TrainingArguments and Trainer\n",
        "training_args = TrainingArguments(\n",
        "    output_dir=\"./results\",\n",
        "    evaluation_strategy=\"epoch\",\n",
        "    learning_rate=5e-5,\n",
        "    per_device_train_batch_size=16,\n",
        "    per_device_eval_batch_size=16,\n",
        "    num_train_epochs=10,\n",
        "    weight_decay=0.01,\n",
        "    save_strategy=\"epoch\",\n",
        "    logging_dir=\"./logs\",\n",
        "    load_best_model_at_end=True\n",
        ")\n",
        "\n",
        "trainer = Trainer(\n",
        "    model=model,\n",
        "    args=training_args,\n",
        "    train_dataset=train_dataset,\n",
        "    eval_dataset=test_dataset,\n",
        "    tokenizer=tokenizer\n",
        ")\n",
        "\n"
      ],
      "metadata": {
        "colab": {
          "base_uri": "https://localhost:8080/"
        },
        "id": "Ku40TgnYdyNM",
        "outputId": "dae286fe-9e38-4ae8-df20-01844807854f"
      },
      "execution_count": null,
      "outputs": [
        {
          "output_type": "stream",
          "name": "stderr",
          "text": [
            "/usr/local/lib/python3.10/dist-packages/transformers/training_args.py:1570: FutureWarning: `evaluation_strategy` is deprecated and will be removed in version 4.46 of 🤗 Transformers. Use `eval_strategy` instead\n",
            "  warnings.warn(\n",
            "<ipython-input-127-ee645b90a886>:15: FutureWarning: `tokenizer` is deprecated and will be removed in version 5.0.0 for `Trainer.__init__`. Use `processing_class` instead.\n",
            "  trainer = Trainer(\n"
          ]
        }
      ]
    },
    {
      "cell_type": "code",
      "source": [
        "# Fine-Tune the Model\n",
        "trainer.train()\n",
        "\n"
      ],
      "metadata": {
        "colab": {
          "base_uri": "https://localhost:8080/",
          "height": 423
        },
        "id": "uw13J29CdyLw",
        "outputId": "c6e76885-5c65-4eb2-9469-a4e09a5ea57a"
      },
      "execution_count": null,
      "outputs": [
        {
          "output_type": "display_data",
          "data": {
            "text/plain": [
              "<IPython.core.display.HTML object>"
            ],
            "text/html": [
              "\n",
              "    <div>\n",
              "      \n",
              "      <progress value='2010' max='2010' style='width:300px; height:20px; vertical-align: middle;'></progress>\n",
              "      [2010/2010 09:35, Epoch 10/10]\n",
              "    </div>\n",
              "    <table border=\"1\" class=\"dataframe\">\n",
              "  <thead>\n",
              " <tr style=\"text-align: left;\">\n",
              "      <th>Epoch</th>\n",
              "      <th>Training Loss</th>\n",
              "      <th>Validation Loss</th>\n",
              "    </tr>\n",
              "  </thead>\n",
              "  <tbody>\n",
              "    <tr>\n",
              "      <td>1</td>\n",
              "      <td>No log</td>\n",
              "      <td>0.337974</td>\n",
              "    </tr>\n",
              "    <tr>\n",
              "      <td>2</td>\n",
              "      <td>No log</td>\n",
              "      <td>0.191068</td>\n",
              "    </tr>\n",
              "    <tr>\n",
              "      <td>3</td>\n",
              "      <td>0.362000</td>\n",
              "      <td>0.141899</td>\n",
              "    </tr>\n",
              "    <tr>\n",
              "      <td>4</td>\n",
              "      <td>0.362000</td>\n",
              "      <td>0.143098</td>\n",
              "    </tr>\n",
              "    <tr>\n",
              "      <td>5</td>\n",
              "      <td>0.119200</td>\n",
              "      <td>0.114458</td>\n",
              "    </tr>\n",
              "    <tr>\n",
              "      <td>6</td>\n",
              "      <td>0.119200</td>\n",
              "      <td>0.120757</td>\n",
              "    </tr>\n",
              "    <tr>\n",
              "      <td>7</td>\n",
              "      <td>0.119200</td>\n",
              "      <td>0.108029</td>\n",
              "    </tr>\n",
              "    <tr>\n",
              "      <td>8</td>\n",
              "      <td>0.077900</td>\n",
              "      <td>0.107968</td>\n",
              "    </tr>\n",
              "    <tr>\n",
              "      <td>9</td>\n",
              "      <td>0.077900</td>\n",
              "      <td>0.102834</td>\n",
              "    </tr>\n",
              "    <tr>\n",
              "      <td>10</td>\n",
              "      <td>0.059500</td>\n",
              "      <td>0.104824</td>\n",
              "    </tr>\n",
              "  </tbody>\n",
              "</table><p>"
            ]
          },
          "metadata": {}
        },
        {
          "output_type": "execute_result",
          "data": {
            "text/plain": [
              "TrainOutput(global_step=2010, training_loss=0.15421532282781839, metrics={'train_runtime': 575.5568, 'train_samples_per_second': 55.72, 'train_steps_per_second': 3.492, 'total_flos': 2116794378700800.0, 'train_loss': 0.15421532282781839, 'epoch': 10.0})"
            ]
          },
          "metadata": {},
          "execution_count": 128
        }
      ]
    },
    {
      "cell_type": "code",
      "source": [
        "# Evaluate the model\n",
        "results = trainer.evaluate()\n",
        "\n",
        "print(results)"
      ],
      "metadata": {
        "id": "GYvTDtg-Hn-e",
        "outputId": "ede767bc-430a-4021-e6ba-c3a90299a4b6",
        "colab": {
          "base_uri": "https://localhost:8080/",
          "height": 54
        }
      },
      "execution_count": null,
      "outputs": [
        {
          "output_type": "display_data",
          "data": {
            "text/plain": [
              "<IPython.core.display.HTML object>"
            ],
            "text/html": [
              "\n",
              "    <div>\n",
              "      \n",
              "      <progress value='51' max='51' style='width:300px; height:20px; vertical-align: middle;'></progress>\n",
              "      [51/51 00:06]\n",
              "    </div>\n",
              "    "
            ]
          },
          "metadata": {}
        },
        {
          "output_type": "stream",
          "name": "stdout",
          "text": [
            "{'eval_loss': 0.10283368080854416, 'eval_runtime': 6.063, 'eval_samples_per_second': 132.279, 'eval_steps_per_second': 8.412, 'epoch': 10.0}\n"
          ]
        }
      ]
    },
    {
      "cell_type": "code",
      "source": [
        "# Save the model\n",
        "trainer.save_model(\"./finetuned_model\")\n",
        "tokenizer.save_pretrained(\"./finetuned_model\")"
      ],
      "metadata": {
        "colab": {
          "base_uri": "https://localhost:8080/"
        },
        "id": "d7XdZHiYdyJs",
        "outputId": "45037e09-4d6c-4739-e04d-255185dd6ea3"
      },
      "execution_count": null,
      "outputs": [
        {
          "output_type": "execute_result",
          "data": {
            "text/plain": [
              "('./finetuned_model/tokenizer_config.json',\n",
              " './finetuned_model/special_tokens_map.json',\n",
              " './finetuned_model/vocab.txt',\n",
              " './finetuned_model/added_tokens.json',\n",
              " './finetuned_model/tokenizer.json')"
            ]
          },
          "metadata": {},
          "execution_count": 130
        }
      ]
    },
    {
      "cell_type": "code",
      "source": [
        "from sklearn.metrics import classification_report, accuracy_score\n",
        "\n",
        "# Step 6: Evaluate Performance\n",
        "# Get predictions on test dataset\n",
        "raw_pred, _, _ = trainer.predict(test_dataset)\n",
        "\n",
        "# Convert raw predictions to class labels\n",
        "predictions = raw_pred.argmax(axis=1)\n",
        "labels = test_dataset[\"label\"]\n",
        "\n",
        "# Compute metrics\n",
        "print(\"\\nClassification Report:\")\n",
        "print(classification_report(labels, predictions))\n",
        "\n",
        "print(\"\\nAccuracy:\")\n",
        "print(accuracy_score(labels, predictions))"
      ],
      "metadata": {
        "colab": {
          "base_uri": "https://localhost:8080/",
          "height": 260
        },
        "id": "UUcEp7s4dyH1",
        "outputId": "2ce8c562-b08e-4146-989b-6f2d60a52664"
      },
      "execution_count": null,
      "outputs": [
        {
          "output_type": "display_data",
          "data": {
            "text/plain": [
              "<IPython.core.display.HTML object>"
            ],
            "text/html": []
          },
          "metadata": {}
        },
        {
          "output_type": "stream",
          "name": "stdout",
          "text": [
            "\n",
            "Classification Report:\n",
            "              precision    recall  f1-score   support\n",
            "\n",
            "           0       0.98      0.98      0.98       455\n",
            "           1       0.97      0.98      0.97       347\n",
            "\n",
            "    accuracy                           0.98       802\n",
            "   macro avg       0.98      0.98      0.98       802\n",
            "weighted avg       0.98      0.98      0.98       802\n",
            "\n",
            "\n",
            "Accuracy:\n",
            "0.9775561097256857\n"
          ]
        }
      ]
    },
    {
      "cell_type": "code",
      "source": [],
      "metadata": {
        "id": "Pazk18urdx9j"
      },
      "execution_count": null,
      "outputs": []
    }
  ]
}